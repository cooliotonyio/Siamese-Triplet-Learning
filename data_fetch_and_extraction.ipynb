{
 "cells": [
  {
   "cell_type": "code",
   "execution_count": 1,
   "metadata": {},
   "outputs": [],
   "source": [
    "import tarfile\n",
    "from zipfile import ZipFile\n",
    "from util import fetch_and_cache"
   ]
  },
  {
   "cell_type": "code",
   "execution_count": 2,
   "metadata": {},
   "outputs": [],
   "source": [
    "RAW_DATA_DIR = './raw_data'\n",
    "DATA_DIR = './data'"
   ]
  },
  {
   "cell_type": "code",
   "execution_count": 3,
   "metadata": {},
   "outputs": [
    {
     "name": "stdout",
     "output_type": "stream",
     "text": [
      "Using cached version that was downloaded (UTC): Sat Sep 15 23:22:56 2018\n"
     ]
    },
    {
     "data": {
      "text/plain": [
       "PosixPath('raw_data/nus-wide.tar.gz')"
      ]
     },
     "execution_count": 3,
     "metadata": {},
     "output_type": "execute_result"
    }
   ],
   "source": [
    "# Download image data\n",
    "image_data_url = 'https://s3-us-west-2.amazonaws.com/multimedia-berkeley/Flickr.tar.gz'\n",
    "image_data_filename = 'nus-wide.tar.gz'\n",
    "fetch_and_cache(data_url = image_data_url, \n",
    "                data_dir = RAW_DATA_DIR, \n",
    "                file = image_data_filename, \n",
    "                force = False)\n"
   ]
  },
  {
   "cell_type": "code",
   "execution_count": 4,
   "metadata": {},
   "outputs": [
    {
     "name": "stdout",
     "output_type": "stream",
     "text": [
      "Using cached version that was downloaded (UTC): Tue Feb 12 08:20:45 2019\n"
     ]
    },
    {
     "data": {
      "text/plain": [
       "PosixPath('raw_data/word_vectors.zip')"
      ]
     },
     "execution_count": 4,
     "metadata": {},
     "output_type": "execute_result"
    }
   ],
   "source": [
    "# Download word data\n",
    "word_data_url = 'https://dl.fbaipublicfiles.com/fasttext/vectors-english/wiki-news-300d-1M.vec.zip'\n",
    "word_data_filename = 'word_vectors.zip'\n",
    "word_data_dir = './raw_data'\n",
    "fetch_and_cache(data_url = word_data_url, \n",
    "                data_dir = RAW_DATA_DIR, \n",
    "                file = word_data_filename, \n",
    "                force = False)\n"
   ]
  },
  {
   "cell_type": "code",
   "execution_count": 5,
   "metadata": {},
   "outputs": [
    {
     "name": "stdout",
     "output_type": "stream",
     "text": [
      "Using cached version that was downloaded (UTC): Wed Feb 13 00:34:36 2019\n",
      "Using cached version that was downloaded (UTC): Wed Feb 13 00:34:36 2019\n"
     ]
    }
   ],
   "source": [
    "# Download metadata\n",
    "meta_data_urls = {\n",
    "    \"tags\":\"http://dl.nextcenter.org/public/nuswide/NUS_WID_Tags.zip\",\n",
    "    \"concepts\":\"http://dl.nextcenter.org/public/nuswide/ConceptsList.zip\"\n",
    "}\n",
    "meta_data_filenames = {\n",
    "    \"tags\":\"tags.zip\",\n",
    "    \"concepts\":\"concepts.zip\"\n",
    "}\n",
    "meta_data_dir = \"./raw_data\"\n",
    "for key in meta_data_urls:\n",
    "    fetch_and_cache(data_url = meta_data_urls[key],\n",
    "                    data_dir = RAW_DATA_DIR,\n",
    "                    file = meta_data_filenames[key],\n",
    "                    force = False)\n",
    "    "
   ]
  },
  {
   "cell_type": "code",
   "execution_count": 6,
   "metadata": {},
   "outputs": [],
   "source": [
    "# Extract image data\n",
    "image_data = tarfile.open(RAW_DATA_DIR + \"/\" + image_data_filename)\n",
    "image_data.extractall(path = DATA_DIR)"
   ]
  },
  {
   "cell_type": "code",
   "execution_count": 7,
   "metadata": {},
   "outputs": [],
   "source": [
    "# Extact word data\n",
    "with ZipFile(RAW_DATA_DIR + \"/\" + word_data_filename, 'r') as words:\n",
    "    words.extractall(path = DATA_DIR)"
   ]
  },
  {
   "cell_type": "code",
   "execution_count": 8,
   "metadata": {},
   "outputs": [],
   "source": [
    "# Extract meta data\n",
    "for key in meta_data_filenames:\n",
    "    with ZipFile(RAW_DATA_DIR + \"/\" + meta_data_filenames[key], 'r') as meta_data:\n",
    "        meta_data.extractall(path = DATA_DIR)"
   ]
  },
  {
   "cell_type": "code",
   "execution_count": null,
   "metadata": {},
   "outputs": [],
   "source": []
  }
 ],
 "metadata": {
  "kernelspec": {
   "display_name": "Python [conda env:pytorch_p36]",
   "language": "python",
   "name": "conda-env-pytorch_p36-py"
  },
  "language_info": {
   "codemirror_mode": {
    "name": "ipython",
    "version": 3
   },
   "file_extension": ".py",
   "mimetype": "text/x-python",
   "name": "python",
   "nbconvert_exporter": "python",
   "pygments_lexer": "ipython3",
   "version": "3.6.6"
  }
 },
 "nbformat": 4,
 "nbformat_minor": 2
}

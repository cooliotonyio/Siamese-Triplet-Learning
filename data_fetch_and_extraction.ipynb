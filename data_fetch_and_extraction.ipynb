{
 "cells": [
  {
   "cell_type": "code",
   "execution_count": 1,
   "metadata": {},
   "outputs": [],
   "source": [
    "import tarfile\n",
    "from zipfile import ZipFile\n",
    "from util import fetch_and_cache"
   ]
  },
  {
   "cell_type": "code",
   "execution_count": 2,
   "metadata": {},
   "outputs": [
    {
     "name": "stdout",
     "output_type": "stream",
     "text": [
      "Using cached version that was downloaded (UTC): Sat Sep 15 23:22:56 2018\n"
     ]
    }
   ],
   "source": [
    "# Download image data\n",
    "image_data_url = 'https://s3-us-west-2.amazonaws.com/multimedia-berkeley/Flickr.tar.gz'\n",
    "image_data_filename = 'nus-wide.tar.gz'\n",
    "image_data_dir = '.'\n",
    "image_dest_path = fetch_and_cache(data_url=image_data_url, \n",
    "                                  data_dir=image_data_dir, \n",
    "                                  file=image_data_filename, \n",
    "                                  force=False)"
   ]
  },
  {
   "cell_type": "code",
   "execution_count": 3,
   "metadata": {},
   "outputs": [
    {
     "name": "stdout",
     "output_type": "stream",
     "text": [
      "Using cached version that was downloaded (UTC): Tue Feb 12 08:20:45 2019\n"
     ]
    }
   ],
   "source": [
    "# Download word data\n",
    "word_data_url = 'https://dl.fbaipublicfiles.com/fasttext/vectors-english/wiki-news-300d-1M.vec.zip'\n",
    "word_data_filename = 'word_vectors.zip'\n",
    "word_data_dir = '.'\n",
    "word_dest_path = fetch_and_cache(data_url=word_data_url, \n",
    "                                 data_dir=word_data_dir, \n",
    "                                 file=word_data_filename, \n",
    "                                 force=False)"
   ]
  },
  {
   "cell_type": "code",
   "execution_count": 4,
   "metadata": {},
   "outputs": [],
   "source": [
    "# Extract image data\n",
    "image_data = tarfile.open(image_data_dir + \"/\" + image_data_filename)\n",
    "image_data.extractall()"
   ]
  },
  {
   "cell_type": "code",
   "execution_count": 5,
   "metadata": {},
   "outputs": [],
   "source": [
    "# Extact word data\n",
    "with ZipFile(word_data_filename, 'r') as words:\n",
    "    words.extractall()"
   ]
  },
  {
   "cell_type": "code",
   "execution_count": null,
   "metadata": {},
   "outputs": [],
   "source": []
  }
 ],
 "metadata": {
  "kernelspec": {
   "display_name": "Python [conda env:pytorch_p36]",
   "language": "python",
   "name": "conda-env-pytorch_p36-py"
  },
  "language_info": {
   "codemirror_mode": {
    "name": "ipython",
    "version": 3
   },
   "file_extension": ".py",
   "mimetype": "text/x-python",
   "name": "python",
   "nbconvert_exporter": "python",
   "pygments_lexer": "ipython3",
   "version": "3.6.6"
  }
 },
 "nbformat": 4,
 "nbformat_minor": 2
}

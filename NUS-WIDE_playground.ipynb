{
 "cells": [
  {
   "cell_type": "code",
   "execution_count": 2,
   "metadata": {},
   "outputs": [],
   "source": [
    "import torch\n",
    "import tarfile\n",
    "from util import fetch_and_cache"
   ]
  },
  {
   "cell_type": "code",
   "execution_count": 3,
   "metadata": {},
   "outputs": [
    {
     "name": "stdout",
     "output_type": "stream",
     "text": [
      "Using cached version that was downloaded (UTC): Sat Sep 15 23:22:56 2018\n"
     ]
    }
   ],
   "source": [
    "data_url = 'https://s3-us-west-2.amazonaws.com/multimedia-berkeley/Flickr.tar.gz'\n",
    "data_filename = 'nus-wide.tar.gz'\n",
    "data_dir = '.'\n",
    "dest_path = fetch_and_cache(data_url=data_url, data_dir=data_dir, file=data_filename, force=False)"
   ]
  },
  {
   "cell_type": "code",
   "execution_count": 4,
   "metadata": {},
   "outputs": [],
   "source": [
    "data = tarfile.open(data_dir + \"/\" + data_filename)"
   ]
  },
  {
   "cell_type": "code",
   "execution_count": 5,
   "metadata": {},
   "outputs": [],
   "source": [
    "# concepts we're interested in\n",
    "concepts = ['dog', 'cat', 'fruit', 'shops', 'vehicle', 'person', 'coast', 'food', 'goat', 'monks']"
   ]
  },
  {
   "cell_type": "code",
   "execution_count": 6,
   "metadata": {},
   "outputs": [],
   "source": [
    "# all files in the dataset\n",
    "all_filenames = data.getnames()"
   ]
  },
  {
   "cell_type": "code",
   "execution_count": 7,
   "metadata": {},
   "outputs": [],
   "source": [
    "# list all folders (concepts) in dataset\n",
    "# make sure our concepts are covered\n",
    "all_concepts = [filename.split('/')[1] for filename in all_filenames if len(filename.split('/')) == 2]\n",
    "for concept in concepts:\n",
    "    assert concept in all_concepts"
   ]
  },
  {
   "cell_type": "code",
   "execution_count": 8,
   "metadata": {},
   "outputs": [],
   "source": [
    "# all .jpg files that are in the concepts we're interested in\n",
    "filenames = [filename for filename in all_filenames if len(filename.split('/')) == 3]"
   ]
  },
  {
   "cell_type": "code",
   "execution_count": 15,
   "metadata": {},
   "outputs": [
    {
     "name": "stdout",
     "output_type": "stream",
     "text": [
      "269678 images encompassing 704 concepts\n"
     ]
    }
   ],
   "source": [
    "print(\"{} images encompassing {} concepts\".format(len(filenames), len(all_concepts)))"
   ]
  },
  {
   "cell_type": "code",
   "execution_count": 14,
   "metadata": {},
   "outputs": [],
   "source": [
    "data.extractall()"
   ]
  },
  {
   "cell_type": "code",
   "execution_count": null,
   "metadata": {},
   "outputs": [],
   "source": []
  }
 ],
 "metadata": {
  "kernelspec": {
   "display_name": "Python [conda env:pytorch_p36]",
   "language": "python",
   "name": "conda-env-pytorch_p36-py"
  },
  "language_info": {
   "codemirror_mode": {
    "name": "ipython",
    "version": 3
   },
   "file_extension": ".py",
   "mimetype": "text/x-python",
   "name": "python",
   "nbconvert_exporter": "python",
   "pygments_lexer": "ipython3",
   "version": "3.6.6"
  }
 },
 "nbformat": 4,
 "nbformat_minor": 2
}
